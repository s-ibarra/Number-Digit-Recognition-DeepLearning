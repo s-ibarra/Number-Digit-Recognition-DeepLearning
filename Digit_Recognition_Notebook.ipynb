{
  "cells": [
    {
      "cell_type": "markdown",
      "metadata": {
        "id": "Q91KqmCRu64D"
      },
      "source": [
        "# **Deep Learning Project: Street View Housing Number Digit Recognition**\n",
        "\n",
        "--------------\n",
        "## **Context**\n",
        "--------------\n",
        "\n",
        "One of the most interesting tasks in deep learning is to recognize objects in natural scenes. The ability to process visual information using machine learning algorithms can be very useful as demonstrated in various applications.\n",
        "\n",
        "The SVHN dataset contains over 600,000 labeled digits cropped from street-level photos. It is one of the most popular image recognition datasets. It has been used in neural networks created by Google to improve the map quality by automatically transcribing the address numbers from a patch of pixels. The transcribed number with a known street address helps pinpoint the location of the building it represents.\n",
        "\n",
        "----------------\n",
        "## **Objective**\n",
        "----------------\n",
        "\n",
        "Our objective is to predict the number depicted inside the image by using Artificial or Fully Connected Feed Forward Neural Networks and Convolutional Neural Networks. We will go through various models of each and finally select the one that is giving us the best performance.\n",
        "\n",
        "-------------\n",
        "## **Dataset**\n",
        "-------------\n",
        "Here, we will use a subset of the original data to save some computation time. The dataset is provided as a .h5 file. The basic preprocessing steps have been applied on the dataset."
      ]
    },
    {
      "cell_type": "markdown",
      "metadata": {
        "id": "8z2Z7-OAs8QG"
      },
      "source": [
        "## **Mount the drive**\n",
        "\n",
        "Let us start by mounting the Google drive. You can run the below cell to mount the Google drive."
      ]
    },
    {
      "cell_type": "code",
      "execution_count": null,
      "metadata": {
        "colab": {
          "base_uri": "https://localhost:8080/"
        },
        "id": "03lDyQUuef7z",
        "outputId": "2fac69a5-8b39-470e-c38d-4b17a1570f06"
      },
      "outputs": [
        {
          "name": "stdout",
          "output_type": "stream",
          "text": [
            "Mounted at /content/drive\n"
          ]
        }
      ],
      "source": [
        "from google.colab import drive\n",
        "\n",
        "drive.mount('/content/drive')"
      ]
    },
    {
      "cell_type": "markdown",
      "metadata": {
        "id": "C8U3DUa3eNsT"
      },
      "source": [
        "## **Importing the necessary libraries**"
      ]
    },
    {
      "cell_type": "code",
      "execution_count": null,
      "metadata": {
        "id": "-dVzeuF3eQx1"
      },
      "outputs": [],
      "source": [
        "import pandas as pd\n",
        "import numpy as np\n",
        "import matplotlib.pyplot as plt\n",
        "import seaborn as sns\n",
        "import tensorflow as tf\n",
        "from sklearn.model_selection import train_test_split\n",
        "from sklearn.preprocessing import MinMaxScaler\n",
        "from tensorflow.keras.utils import to_categorical\n",
        "from tensorflow.keras.optimizers import Adam\n",
        "from tensorflow.keras.models import Sequential\n",
        "from tensorflow.keras.layers import Conv2D,LeakyReLU,MaxPooling2D,Flatten, Dense, Dropout, Activation, BatchNormalization\n",
        "from tensorflow.keras.losses import categorical_crossentropy\n",
        "import h5py"
      ]
    },
    {
      "cell_type": "markdown",
      "metadata": {
        "id": "ucnevGLoyKf_"
      },
      "source": [
        "**Let us check the version of tensorflow.**"
      ]
    },
    {
      "cell_type": "code",
      "execution_count": null,
      "metadata": {
        "colab": {
          "base_uri": "https://localhost:8080/"
        },
        "id": "W5as47YxyJVk",
        "outputId": "544f932a-3aa8-4d34-fdf5-c03df0ec4ba7"
      },
      "outputs": [
        {
          "name": "stdout",
          "output_type": "stream",
          "text": [
            "2.12.0\n"
          ]
        }
      ],
      "source": [
        "print(tf.__version__)"
      ]
    },
    {
      "cell_type": "markdown",
      "metadata": {
        "id": "8lsux2ZwyTTR"
      },
      "source": [
        "## **Load the dataset**\n",
        "\n",
        "- Let us now load the dataset that is available as a .h5 file.\n",
        "- Split the data into the train and the test dataset."
      ]
    },
    {
      "cell_type": "code",
      "execution_count": null,
      "metadata": {
        "id": "BApX9qgNsqV0",
        "scrolled": true
      },
      "outputs": [],
      "source": [
        "#Load h5 file\n",
        "file_h5 = h5py.File('/content/SVHN_single_grey1.h5', 'r')"
      ]
    },
    {
      "cell_type": "code",
      "execution_count": null,
      "metadata": {
        "id": "bblzFpozy42-"
      },
      "outputs": [],
      "source": [
        "#Split intro train and test datasets\n",
        "X_train = file_h5['X_train'][:]\n",
        "y_train = file_h5['y_train'][:]\n",
        "X_test = file_h5['X_test'][:]\n",
        "y_test = file_h5['y_test'][:]"
      ]
    },
    {
      "cell_type": "code",
      "execution_count": null,
      "metadata": {
        "id": "G0C8o-DTzEUY"
      },
      "outputs": [],
      "source": [
        "file_h5.close()"
      ]
    },
    {
      "cell_type": "markdown",
      "metadata": {
        "id": "hVe0CYpUgj7w"
      },
      "source": [
        "Check the number of images in the training and the testing dataset."
      ]
    },
    {
      "cell_type": "code",
      "execution_count": null,
      "metadata": {
        "colab": {
          "base_uri": "https://localhost:8080/"
        },
        "id": "y3lwKpOefkpA",
        "outputId": "2234d759-8876-4f84-b5f5-28fcdec96894"
      },
      "outputs": [
        {
          "data": {
            "text/plain": [
              "42000"
            ]
          },
          "execution_count": 97,
          "metadata": {},
          "output_type": "execute_result"
        }
      ],
      "source": [
        "len(X_train)"
      ]
    },
    {
      "cell_type": "code",
      "execution_count": null,
      "metadata": {
        "colab": {
          "base_uri": "https://localhost:8080/"
        },
        "id": "lbW0N8zPzKQe",
        "outputId": "ed94bdaf-676a-4e8c-d16b-6d3c14cf87c5"
      },
      "outputs": [
        {
          "data": {
            "text/plain": [
              "18000"
            ]
          },
          "execution_count": 98,
          "metadata": {},
          "output_type": "execute_result"
        }
      ],
      "source": [
        "len(X_test)"
      ]
    },
    {
      "cell_type": "markdown",
      "metadata": {
        "id": "akTUOfLlgwoM"
      },
      "source": [
        "**Observation:**\n",
        "The train dataset has 42000 images and the test dataset has 18000."
      ]
    },
    {
      "cell_type": "code",
      "execution_count": null,
      "metadata": {
        "colab": {
          "base_uri": "https://localhost:8080/"
        },
        "id": "sbiZl2RKzZIa",
        "outputId": "e532f527-e250-4330-c8fd-1be3228529ef"
      },
      "outputs": [
        {
          "data": {
            "text/plain": [
              "(42000, 32, 32)"
            ]
          },
          "execution_count": 99,
          "metadata": {},
          "output_type": "execute_result"
        }
      ],
      "source": [
        "X_train.shape"
      ]
    },
    {
      "cell_type": "markdown",
      "metadata": {
        "id": "UTyEd_PAzc4x"
      },
      "source": [
        "The images of the training data have 32x32 dimension."
      ]
    },
    {
      "cell_type": "markdown",
      "metadata": {
        "id": "kxODV6HKykuc"
      },
      "source": [
        "## **Visualizing images**\n",
        "\n",
        "- Use X_train to visualize the first 10 images.\n",
        "- Use Y_train to print the first 10 labels."
      ]
    },
    {
      "cell_type": "code",
      "execution_count": null,
      "metadata": {
        "colab": {
          "base_uri": "https://localhost:8080/",
          "height": 96
        },
        "id": "Bvsc8ytHsqWD",
        "outputId": "6ca58612-00a3-469d-c29c-8e8f021dc1c9"
      },
      "outputs": [
        {
          "data": {
            "image/png": "[encoded data removed]",
            "text/plain": [
              "<Figure size 640x480 with 10 Axes>"
            ]
          },
          "metadata": {},
          "output_type": "display_data"
        },
        {
          "name": "stdout",
          "output_type": "stream",
          "text": [
            "[2 6 7 4 4 0 3 0 7 3]\n"
          ]
        }
      ],
      "source": [
        "for i in range(10):\n",
        "  plt.subplot(1,10,i+1)\n",
        "  plt.imshow(X_train[i],cmap = \"gray\")\n",
        "  plt.axis('off')\n",
        "plt.show()\n",
        "print(y_train[0:10])"
      ]
    },
    {
      "cell_type": "markdown",
      "metadata": {
        "id": "kzoyeXHOy80N"
      },
      "source": [
        "## **Data preparation**\n",
        "\n",
        "- Print the shape and the array of pixels for the first image in the training dataset.\n",
        "- Normalize the train and the test dataset by dividing by 255.\n",
        "- Print the new shapes of the train and the test dataset.\n",
        "- One-hot encode the target variable."
      ]
    },
    {
      "cell_type": "code",
      "execution_count": null,
      "metadata": {
        "colab": {
          "base_uri": "https://localhost:8080/"
        },
        "id": "NqndzQXng9rL",
        "outputId": "5b102d3c-f820-4e61-e9d3-ba1a1c520a7d"
      },
      "outputs": [
        {
          "name": "stdout",
          "output_type": "stream",
          "text": [
            "Shape: (32, 32)\n",
            "1st image pixels:\n",
            " [[ 33.0704  30.2601  26.852  ...  71.4471  58.2204  42.9939]\n",
            " [ 25.2283  25.5533  29.9765 ... 113.0209 103.3639  84.2949]\n",
            " [ 26.2775  22.6137  40.4763 ... 113.3028 121.775  115.4228]\n",
            " ...\n",
            " [ 28.5502  36.212   45.0801 ...  24.1359  25.0927  26.0603]\n",
            " [ 38.4352  26.4733  23.2717 ...  28.1094  29.4683  30.0661]\n",
            " [ 50.2984  26.0773  24.0389 ...  49.6682  50.853   53.0377]]\n"
          ]
        }
      ],
      "source": [
        "#Shape of the images\n",
        "print('Shape:',X_train[0].shape)\n",
        "\n",
        "#Pixels of image 1\n",
        "print('1st image pixels:\\n',X_train[0])"
      ]
    },
    {
      "cell_type": "code",
      "execution_count": null,
      "metadata": {
        "id": "RYBt4Znd08oU"
      },
      "outputs": [],
      "source": [
        "#Flatten the datasets\n",
        "\n",
        "X_train = X_train.reshape(X_train.shape[0],1024)\n",
        "X_test = X_test.reshape(X_test.shape[0],1024)"
      ]
    },
    {
      "cell_type": "markdown",
      "metadata": {
        "id": "f4CQkKtQ0XII"
      },
      "source": [
        "### **Normalize the train and the test data**"
      ]
    },
    {
      "cell_type": "code",
      "execution_count": null,
      "metadata": {
        "id": "q_yUUTp_mUzB"
      },
      "outputs": [],
      "source": [
        "#Normalizing test and train data from 0-255 to 0-1\n",
        "X_train_norm = X_train.astype('float32')/255.0\n",
        "X_test_norm = X_test.astype('float32')/255.0"
      ]
    },
    {
      "cell_type": "markdown",
      "metadata": {
        "id": "YSlYN6pb8kMY"
      },
      "source": [
        "Print the shapes of Training and Test data"
      ]
    },
    {
      "cell_type": "code",
      "execution_count": null,
      "metadata": {
        "colab": {
          "base_uri": "https://localhost:8080/"
        },
        "id": "t7FSqOpamWkH",
        "outputId": "a33d6fe4-131f-4cc4-f02e-6d032e1a0e94"
      },
      "outputs": [
        {
          "name": "stdout",
          "output_type": "stream",
          "text": [
            "Train dataset: (42000, 1024) (42000,)\n",
            "Test dataset: (18000, 1024) (18000,)\n"
          ]
        }
      ],
      "source": [
        "print('Train dataset:',X_train_norm.shape,y_train.shape)\n",
        "print('Test dataset:',X_test_norm.shape,y_test.shape)"
      ]
    },
    {
      "cell_type": "markdown",
      "metadata": {
        "id": "0uLxXBpz81vk"
      },
      "source": [
        "### **One-hot encode output**"
      ]
    },
    {
      "cell_type": "code",
      "execution_count": null,
      "metadata": {
        "colab": {
          "base_uri": "https://localhost:8080/"
        },
        "id": "zL0lYER4sqWw",
        "outputId": "68898d4e-d4dc-49eb-8ad7-c9070e4c676c"
      },
      "outputs": [
        {
          "data": {
            "text/plain": [
              "array([[0., 1., 0., ..., 0., 0., 0.],\n",
              "       [0., 0., 0., ..., 1., 0., 0.],\n",
              "       [0., 0., 1., ..., 0., 0., 0.],\n",
              "       ...,\n",
              "       [0., 0., 0., ..., 1., 0., 0.],\n",
              "       [0., 0., 0., ..., 0., 0., 1.],\n",
              "       [0., 0., 1., ..., 0., 0., 0.]], dtype=float32)"
            ]
          },
          "execution_count": 106,
          "metadata": {},
          "output_type": "execute_result"
        }
      ],
      "source": [
        "y_train = to_categorical(y_train)\n",
        "y_test = to_categorical(y_test)\n",
        "\n",
        "y_test"
      ]
    },
    {
      "cell_type": "markdown",
      "metadata": {
        "id": "ViqPOTquCF76"
      },
      "source": [
        "**Observation:**\n",
        "Every element of the test set is a one-hot encoded vector instead of a single label."
      ]
    },
    {
      "cell_type": "markdown",
      "metadata": {
        "id": "yH-gVrzuByNA"
      },
      "source": [
        "## **Model Building**\n",
        "\n",
        "Now that we have done the data preprocessing, let's build an ANN model.\n",
        "\n",
        "### Fix the seed for random number generators"
      ]
    },
    {
      "cell_type": "code",
      "execution_count": null,
      "metadata": {
        "id": "BcKRwrGn0XIL"
      },
      "outputs": [],
      "source": [
        "import random\n",
        "np.random.seed(18)\n",
        "\n",
        "random.seed(18)\n",
        "tf.random.set_seed(18)"
      ]
    },
    {
      "cell_type": "markdown",
      "metadata": {
        "id": "UJDUoaEj1d6e"
      },
      "source": [
        "### **Model Architecture**\n",
        "- Write a function that returns a sequential model with the following architecture:\n",
        " - First hidden layer with **64 nodes and the relu activation** and the **input shape = (1024, )**\n",
        " - Second hidden layer with **32 nodes and the relu activation**\n",
        " - Output layer with **activation as 'softmax' and number of nodes equal to the number of classes, i.e., 10**\n",
        " - Compile the model with the **loss equal to categorical_crossentropy, optimizer equal to Adam(learning_rate = 0.001), and metric equal to 'accuracy'**. Do not fit the model here, just return the compiled model.\n",
        "- Call the nn_model_1 function and store the model in a new variable.\n",
        "- Print the summary of the model.\n",
        "- Fit on the train data with a **validation split of 0.2, batch size = 128, verbose = 1, and epochs = 20**. Store the model building history to use later for visualization."
      ]
    },
    {
      "cell_type": "markdown",
      "metadata": {
        "id": "A48z6ucF0XIP"
      },
      "source": [
        "### **Build and train an ANN model as per the above mentioned architecture.**"
      ]
    },
    {
      "cell_type": "code",
      "execution_count": null,
      "metadata": {
        "id": "Cmi81Gr5sqW-"
      },
      "outputs": [],
      "source": [
        "def ann_mod1():\n",
        "  model = Sequential()\n",
        "\n",
        "  #Layers of the ANN\n",
        "  model.add(Dense(64, activation='relu', input_shape=(1024,)))\n",
        "\n",
        "  model.add(Dense(32,activation='relu'))\n",
        "\n",
        "  model.add(Dense(10,activation='softmax'))\n",
        "\n",
        "  #Compilation\n",
        "  model.compile(loss='categorical_crossentropy',\n",
        "                optimizer=tf.keras.optimizers.Adam(learning_rate=0.001),\n",
        "                metrics=['accuracy'])\n",
        "  return model"
      ]
    },
    {
      "cell_type": "code",
      "execution_count": null,
      "metadata": {
        "id": "z2yUBULtBU7j"
      },
      "outputs": [],
      "source": [
        "model_ann1 = ann_mod1()"
      ]
    },
    {
      "cell_type": "code",
      "execution_count": null,
      "metadata": {
        "colab": {
          "base_uri": "https://localhost:8080/"
        },
        "id": "g3LRvmLxBXLx",
        "outputId": "06b7e05a-0d2a-42e1-e0f6-24efb5542124"
      },
      "outputs": [
        {
          "name": "stdout",
          "output_type": "stream",
          "text": [
            "Model: \"sequential_6\"\n",
            "_________________________________________________________________\n",
            " Layer (type)                Output Shape              Param #   \n",
            "=================================================================\n",
            " dense_20 (Dense)            (None, 64)                65600     \n",
            "                                                                 \n",
            " dense_21 (Dense)            (None, 32)                2080      \n",
            "                                                                 \n",
            " dense_22 (Dense)            (None, 10)                330       \n",
            "                                                                 \n",
            "=================================================================\n",
            "Total params: 68,010\n",
            "Trainable params: 68,010\n",
            "Non-trainable params: 0\n",
            "_________________________________________________________________\n"
          ]
        }
      ],
      "source": [
        "#Summary of the model\n",
        "model_ann1.summary()"
      ]
    },
    {
      "cell_type": "code",
      "execution_count": null,
      "metadata": {
        "colab": {
          "base_uri": "https://localhost:8080/"
        },
        "id": "peUrQLVjBd3X",
        "outputId": "620d582f-85b4-42bc-f819-e7260b84dc12"
      },
      "outputs": [
        {
          "name": "stdout",
          "output_type": "stream",
          "text": [
            "Epoch 1/20\n",
            "263/263 [==============================] - 7s 14ms/step - loss: 11.7016 - accuracy: 0.1030 - val_loss: 5.1107 - val_accuracy: 0.1057\n",
            "Epoch 2/20\n",
            "263/263 [==============================] - 2s 7ms/step - loss: 3.6335 - accuracy: 0.1134 - val_loss: 2.7909 - val_accuracy: 0.1257\n",
            "Epoch 3/20\n",
            "263/263 [==============================] - 1s 5ms/step - loss: 2.6963 - accuracy: 0.1366 - val_loss: 2.6806 - val_accuracy: 0.1371\n",
            "Epoch 4/20\n",
            "263/263 [==============================] - 1s 5ms/step - loss: 2.4290 - accuracy: 0.1636 - val_loss: 2.3867 - val_accuracy: 0.1744\n",
            "Epoch 5/20\n",
            "263/263 [==============================] - 2s 7ms/step - loss: 2.3040 - accuracy: 0.2015 - val_loss: 2.3291 - val_accuracy: 0.2093\n",
            "Epoch 6/20\n",
            "263/263 [==============================] - 1s 5ms/step - loss: 2.1232 - accuracy: 0.2598 - val_loss: 2.2852 - val_accuracy: 0.2154\n",
            "Epoch 7/20\n",
            "263/263 [==============================] - 1s 5ms/step - loss: 2.0035 - accuracy: 0.3034 - val_loss: 1.9493 - val_accuracy: 0.3414\n",
            "Epoch 8/20\n",
            "263/263 [==============================] - 1s 5ms/step - loss: 1.8821 - accuracy: 0.3435 - val_loss: 1.7908 - val_accuracy: 0.3895\n",
            "Epoch 9/20\n",
            "263/263 [==============================] - 1s 5ms/step - loss: 1.8439 - accuracy: 0.3632 - val_loss: 1.7498 - val_accuracy: 0.4049\n",
            "Epoch 10/20\n",
            "263/263 [==============================] - 2s 8ms/step - loss: 1.7228 - accuracy: 0.4117 - val_loss: 1.8486 - val_accuracy: 0.3811\n",
            "Epoch 11/20\n",
            "263/263 [==============================] - 2s 8ms/step - loss: 1.7109 - accuracy: 0.4244 - val_loss: 1.6767 - val_accuracy: 0.4373\n",
            "Epoch 12/20\n",
            "263/263 [==============================] - 2s 8ms/step - loss: 1.6591 - accuracy: 0.4441 - val_loss: 1.8539 - val_accuracy: 0.3975\n",
            "Epoch 13/20\n",
            "263/263 [==============================] - 2s 8ms/step - loss: 1.6477 - accuracy: 0.4551 - val_loss: 1.5880 - val_accuracy: 0.4824\n",
            "Epoch 14/20\n",
            "263/263 [==============================] - 2s 8ms/step - loss: 1.6517 - accuracy: 0.4545 - val_loss: 2.0108 - val_accuracy: 0.3583\n",
            "Epoch 15/20\n",
            "263/263 [==============================] - 2s 7ms/step - loss: 1.6046 - accuracy: 0.4690 - val_loss: 1.5186 - val_accuracy: 0.5098\n",
            "Epoch 16/20\n",
            "263/263 [==============================] - 1s 5ms/step - loss: 1.5513 - accuracy: 0.4892 - val_loss: 1.6870 - val_accuracy: 0.4421\n",
            "Epoch 17/20\n",
            "263/263 [==============================] - 1s 5ms/step - loss: 1.5855 - accuracy: 0.4749 - val_loss: 1.5272 - val_accuracy: 0.5089\n",
            "Epoch 18/20\n",
            "263/263 [==============================] - 1s 5ms/step - loss: 1.5231 - accuracy: 0.5024 - val_loss: 1.8769 - val_accuracy: 0.4142\n",
            "Epoch 19/20\n",
            "263/263 [==============================] - 1s 5ms/step - loss: 1.5028 - accuracy: 0.5034 - val_loss: 1.7109 - val_accuracy: 0.4475\n",
            "Epoch 20/20\n",
            "263/263 [==============================] - 1s 5ms/step - loss: 1.4901 - accuracy: 0.5132 - val_loss: 1.5879 - val_accuracy: 0.4715\n"
          ]
        }
      ],
      "source": [
        "#Fit\n",
        "\n",
        "history_model_ann1 = model_ann1.fit(X_train,y_train,\n",
        "                              validation_split=0.2,\n",
        "                              batch_size=128,\n",
        "                              verbose=1,\n",
        "                              epochs=20)"
      ]
    },
    {
      "cell_type": "markdown",
      "metadata": {
        "id": "MeF8XSWz0XIU"
      },
      "source": [
        "### **Plot the Training and Validation Accuracies and write down your Observations.**"
      ]
    },
    {
      "cell_type": "code",
      "execution_count": null,
      "metadata": {
        "colab": {
          "base_uri": "https://localhost:8080/",
          "height": 696
        },
        "id": "lt77zgGMP4yw",
        "outputId": "60a4fb1f-a21b-42fd-8949-d7732e295e39"
      },
      "outputs": [
        {
          "data": {
            "image/png": "[encoded data removed]",
            "text/plain": [
              "<Figure size 800x800 with 1 Axes>"
            ]
          },
          "metadata": {},
          "output_type": "display_data"
        }
      ],
      "source": [
        "acc_hist = history_model_ann1.history\n",
        "\n",
        "epoch_list = [i for i in range(1, 21)]\n",
        "\n",
        "plt.figure(figsize = (8, 8))\n",
        "plt.plot(epoch_list, acc_hist['accuracy'], ls = '--', label = 'accuracy')\n",
        "plt.plot(epoch_list, acc_hist['val_accuracy'], ls = '--', label = 'val_accuracy')\n",
        "\n",
        "\n",
        "plt.ylabel('Accuracy')\n",
        "plt.xlabel('Epochs')\n",
        "\n",
        "plt.legend()\n",
        "plt.show()"
      ]
    },
    {
      "cell_type": "markdown",
      "metadata": {
        "id": "pGBbQpLONX7k"
      },
      "source": [
        "**Observations:**\n",
        "The accuracy between the training and validation data is just slightly different in each one. It can be observed that the accuracy at early stages of epochs is low, but as the epochs develop the accuracy increases until a value of 0.5 for both sets."
      ]
    },
    {
      "cell_type": "markdown",
      "metadata": {
        "id": "z0qgLMBZm5-K"
      },
      "source": [
        "Let's build one more model with higher complexity and see if we can improve the performance of the model.\n",
        "\n",
        "First, we need to clear the previous model's history from the Keras backend. Also, let's fix the seed again after clearing the backend."
      ]
    },
    {
      "cell_type": "code",
      "execution_count": null,
      "metadata": {
        "id": "y6hnsuw_C-96"
      },
      "outputs": [],
      "source": [
        "np.random.seed(18)\n",
        "random.seed(18)\n",
        "\n",
        "tf.random.set_seed(18)"
      ]
    },
    {
      "cell_type": "markdown",
      "metadata": {
        "id": "lT6o3TIKuCtk"
      },
      "source": [
        "### **Second Model Architecture**\n",
        "- Write a function that returns a sequential model with the following architecture:\n",
        " - First hidden layer with **256 nodes and the relu activation** and the **input shape = (1024, )**\n",
        " - Second hidden layer with **128 nodes and the relu activation**\n",
        " - Add the **Dropout layer with the rate equal to 0.2**\n",
        " - Third hidden layer with **64 nodes and the relu activation**\n",
        " - Fourth hidden layer with **64 nodes and the relu activation**\n",
        " - Fifth hidden layer with **32 nodes and the relu activation**\n",
        " - Add the **BatchNormalization layer**\n",
        " - Output layer with **activation as 'softmax' and number of nodes equal to the number of classes, i.e., 10**\n",
        " -Compile the model with the **loss equal to categorical_crossentropy, optimizer equal to Adam(learning_rate = 0.0005), and metric equal to 'accuracy'**. Do not fit the model here, just return the compiled model.\n",
        "- Call the nn_model_2 function and store the model in a new variable.\n",
        "- Print the summary of the model.\n",
        "- Fit on the train data with a **validation split of 0.2, batch size = 128, verbose = 1, and epochs = 30**. Store the model building history to use later for visualization."
      ]
    },
    {
      "cell_type": "markdown",
      "metadata": {
        "id": "f-ZjNBmH0XIV"
      },
      "source": [
        "### **Build and train the new ANN model as per the above mentioned architecture**"
      ]
    },
    {
      "cell_type": "code",
      "execution_count": null,
      "metadata": {
        "id": "EEPYLFIPnSDP"
      },
      "outputs": [],
      "source": [
        "def ann_mod2():\n",
        "\n",
        "    model = Sequential()\n",
        "\n",
        "    #Layers\n",
        "\n",
        "    model.add(Dense(256, activation='relu', input_shape=(1024,)))\n",
        "\n",
        "    model.add(Dense(128,activation='relu'))\n",
        "    model.add(Dropout(0.2))\n",
        "\n",
        "    model.add(Dense(64,activation='relu'))\n",
        "\n",
        "    model.add(Dense(64,activation='relu'))\n",
        "\n",
        "    model.add(Dense(32,activation='relu'))\n",
        "\n",
        "    model.add(BatchNormalization())\n",
        "    model.add(Dense(10,activation='softmax'))\n",
        "\n",
        "    # Compilation\n",
        "\n",
        "    model.compile(loss='categorical_crossentropy',\n",
        "                  optimizer=Adam(learning_rate=0.0005),\n",
        "                  metrics=['accuracy'])\n",
        "\n",
        "    return model"
      ]
    },
    {
      "cell_type": "code",
      "execution_count": null,
      "metadata": {
        "id": "Iz1tgA6uDnHW"
      },
      "outputs": [],
      "source": [
        "model_ann2 = ann_mod2()"
      ]
    },
    {
      "cell_type": "code",
      "execution_count": null,
      "metadata": {
        "colab": {
          "base_uri": "https://localhost:8080/"
        },
        "id": "VBMVIjLqDwkz",
        "outputId": "a58f9d01-ea4e-4bef-e379-a90b8a15f870"
      },
      "outputs": [
        {
          "name": "stdout",
          "output_type": "stream",
          "text": [
            "Model: \"sequential_7\"\n",
            "_________________________________________________________________\n",
            " Layer (type)                Output Shape              Param #   \n",
            "=================================================================\n",
            " dense_23 (Dense)            (None, 256)               262400    \n",
            "                                                                 \n",
            " dense_24 (Dense)            (None, 128)               32896     \n",
            "                                                                 \n",
            " dropout_3 (Dropout)         (None, 128)               0         \n",
            "                                                                 \n",
            " dense_25 (Dense)            (None, 64)                8256      \n",
            "                                                                 \n",
            " dense_26 (Dense)            (None, 64)                4160      \n",
            "                                                                 \n",
            " dense_27 (Dense)            (None, 32)                2080      \n",
            "                                                                 \n",
            " batch_normalization_3 (Batc  (None, 32)               128       \n",
            " hNormalization)                                                 \n",
            "                                                                 \n",
            " dense_28 (Dense)            (None, 10)                330       \n",
            "                                                                 \n",
            "=================================================================\n",
            "Total params: 310,250\n",
            "Trainable params: 310,186\n",
            "Non-trainable params: 64\n",
            "_________________________________________________________________\n"
          ]
        }
      ],
      "source": [
        "#Summary\n",
        "model_ann2.summary()"
      ]
    },
    {
      "cell_type": "code",
      "execution_count": null,
      "metadata": {
        "colab": {
          "base_uri": "https://localhost:8080/"
        },
        "id": "9WFAoYoyD6Rs",
        "outputId": "9d474f41-1149-482a-c497-a19fb01ad3e5"
      },
      "outputs": [
        {
          "name": "stdout",
          "output_type": "stream",
          "text": [
            "Epoch 1/30\n",
            "263/263 [==============================] - 5s 12ms/step - loss: 2.4013 - accuracy: 0.1006 - val_loss: 2.3134 - val_accuracy: 0.1089\n",
            "Epoch 2/30\n",
            "263/263 [==============================] - 5s 18ms/step - loss: 2.3024 - accuracy: 0.1204 - val_loss: 2.2417 - val_accuracy: 0.1670\n",
            "Epoch 3/30\n",
            "263/263 [==============================] - 5s 17ms/step - loss: 2.2498 - accuracy: 0.1481 - val_loss: 2.1653 - val_accuracy: 0.2095\n",
            "Epoch 4/30\n",
            "263/263 [==============================] - 4s 15ms/step - loss: 1.9750 - accuracy: 0.2754 - val_loss: 1.7984 - val_accuracy: 0.3973\n",
            "Epoch 5/30\n",
            "263/263 [==============================] - 3s 12ms/step - loss: 1.6808 - accuracy: 0.4078 - val_loss: 1.5681 - val_accuracy: 0.4752\n",
            "Epoch 6/30\n",
            "263/263 [==============================] - 3s 11ms/step - loss: 1.4513 - accuracy: 0.5169 - val_loss: 1.2648 - val_accuracy: 0.6052\n",
            "Epoch 7/30\n",
            "263/263 [==============================] - 3s 13ms/step - loss: 1.3079 - accuracy: 0.5742 - val_loss: 1.2497 - val_accuracy: 0.5900\n",
            "Epoch 8/30\n",
            "263/263 [==============================] - 5s 18ms/step - loss: 1.2236 - accuracy: 0.6104 - val_loss: 1.1762 - val_accuracy: 0.6337\n",
            "Epoch 9/30\n",
            "263/263 [==============================] - 5s 18ms/step - loss: 1.1615 - accuracy: 0.6324 - val_loss: 1.1164 - val_accuracy: 0.6463\n",
            "Epoch 10/30\n",
            "263/263 [==============================] - 4s 14ms/step - loss: 1.1079 - accuracy: 0.6523 - val_loss: 1.1058 - val_accuracy: 0.6475\n",
            "Epoch 11/30\n",
            "263/263 [==============================] - 3s 12ms/step - loss: 1.0723 - accuracy: 0.6643 - val_loss: 0.9908 - val_accuracy: 0.6944\n",
            "Epoch 12/30\n",
            "263/263 [==============================] - 3s 11ms/step - loss: 1.0340 - accuracy: 0.6776 - val_loss: 0.9644 - val_accuracy: 0.6999\n",
            "Epoch 13/30\n",
            "263/263 [==============================] - 4s 14ms/step - loss: 1.0011 - accuracy: 0.6903 - val_loss: 1.0036 - val_accuracy: 0.6890\n",
            "Epoch 14/30\n",
            "263/263 [==============================] - 5s 17ms/step - loss: 0.9759 - accuracy: 0.6983 - val_loss: 0.9104 - val_accuracy: 0.7224\n",
            "Epoch 15/30\n",
            "263/263 [==============================] - 5s 18ms/step - loss: 0.9555 - accuracy: 0.7045 - val_loss: 0.9117 - val_accuracy: 0.7214\n",
            "Epoch 16/30\n",
            "263/263 [==============================] - 3s 13ms/step - loss: 0.9313 - accuracy: 0.7121 - val_loss: 0.9143 - val_accuracy: 0.7177\n",
            "Epoch 17/30\n",
            "263/263 [==============================] - 3s 12ms/step - loss: 0.9196 - accuracy: 0.7155 - val_loss: 0.9025 - val_accuracy: 0.7265\n",
            "Epoch 18/30\n",
            "263/263 [==============================] - 3s 11ms/step - loss: 0.8937 - accuracy: 0.7257 - val_loss: 0.8983 - val_accuracy: 0.7268\n",
            "Epoch 19/30\n",
            "263/263 [==============================] - 4s 15ms/step - loss: 0.8797 - accuracy: 0.7280 - val_loss: 0.9571 - val_accuracy: 0.6950\n",
            "Epoch 20/30\n",
            "263/263 [==============================] - 5s 18ms/step - loss: 0.8605 - accuracy: 0.7353 - val_loss: 0.8875 - val_accuracy: 0.7279\n",
            "Epoch 21/30\n",
            "263/263 [==============================] - 5s 19ms/step - loss: 0.8582 - accuracy: 0.7360 - val_loss: 0.8561 - val_accuracy: 0.7373\n",
            "Epoch 22/30\n",
            "263/263 [==============================] - 3s 11ms/step - loss: 0.8364 - accuracy: 0.7427 - val_loss: 0.8273 - val_accuracy: 0.7543\n",
            "Epoch 23/30\n",
            "263/263 [==============================] - 3s 12ms/step - loss: 0.8286 - accuracy: 0.7464 - val_loss: 0.8198 - val_accuracy: 0.7535\n",
            "Epoch 24/30\n",
            "263/263 [==============================] - 3s 11ms/step - loss: 0.8132 - accuracy: 0.7528 - val_loss: 0.8086 - val_accuracy: 0.7540\n",
            "Epoch 25/30\n",
            "263/263 [==============================] - 4s 16ms/step - loss: 0.8056 - accuracy: 0.7506 - val_loss: 0.8053 - val_accuracy: 0.7574\n",
            "Epoch 26/30\n",
            "263/263 [==============================] - 5s 17ms/step - loss: 0.8138 - accuracy: 0.7462 - val_loss: 0.8183 - val_accuracy: 0.7552\n",
            "Epoch 27/30\n",
            "263/263 [==============================] - 5s 18ms/step - loss: 0.7811 - accuracy: 0.7584 - val_loss: 0.8066 - val_accuracy: 0.7549\n",
            "Epoch 28/30\n",
            "263/263 [==============================] - 3s 11ms/step - loss: 0.7819 - accuracy: 0.7569 - val_loss: 0.8194 - val_accuracy: 0.7519\n",
            "Epoch 29/30\n",
            "263/263 [==============================] - 3s 11ms/step - loss: 0.7693 - accuracy: 0.7628 - val_loss: 0.7826 - val_accuracy: 0.7612\n",
            "Epoch 30/30\n",
            "263/263 [==============================] - 3s 12ms/step - loss: 0.7718 - accuracy: 0.7611 - val_loss: 0.7478 - val_accuracy: 0.7799\n"
          ]
        }
      ],
      "source": [
        "#Fit model\n",
        "history_model_ann2 = model_ann2.fit(X_train,y_train,\n",
        "                              validation_split=0.2,\n",
        "                              batch_size=128,\n",
        "                              verbose=1,\n",
        "                              epochs=30)\n"
      ]
    },
    {
      "cell_type": "markdown",
      "metadata": {
        "id": "ZJYsvjmw0XIX"
      },
      "source": [
        "### **Plot the Training and Validation Accuracies and write down your Observations.**"
      ]
    },
    {
      "cell_type": "code",
      "execution_count": null,
      "metadata": {
        "colab": {
          "base_uri": "https://localhost:8080/",
          "height": 696
        },
        "id": "01ig6BrF1KVy",
        "outputId": "b2971901-7115-47a6-8e20-18cc98991e20"
      },
      "outputs": [
        {
          "data": {
            "image/png": "[encoded data removed]",
            "text/plain": [
              "<Figure size 800x800 with 1 Axes>"
            ]
          },
          "metadata": {},
          "output_type": "display_data"
        }
      ],
      "source": [
        "acc_hist = history_model_ann2.history\n",
        "\n",
        "epoch_list = [i for i in range(1, 31)]\n",
        "\n",
        "plt.figure(figsize = (8, 8))\n",
        "\n",
        "plt.plot(epoch_list, acc_hist['accuracy'], ls = '--', label = 'accuracy')\n",
        "\n",
        "plt.plot(epoch_list, acc_hist['val_accuracy'], ls ='--', label = 'val_accuracy')\n",
        "\n",
        "plt.ylabel('Accuracy')\n",
        "\n",
        "plt.xlabel('Epochs')\n",
        "\n",
        "plt.legend()\n",
        "\n",
        "plt.show()"
      ]
    },
    {
      "cell_type": "markdown",
      "metadata": {
        "id": "VPW1LlD61RDn"
      },
      "source": [
        "**Observations:**\n",
        "The accuracy of the test set keeps all the time under the train set. The accuracy of both sets increases with time. There is a great decreasing between epoch 15 and 20, but recovers quickly. The accuracy of the validation set has an increase near to 0.72. Better than the previous model."
      ]
    },
    {
      "cell_type": "markdown",
      "metadata": {
        "id": "8kuXx9Bvu00f"
      },
      "source": [
        "## **Predictions on the test data**\n",
        "\n",
        "- Make predictions on the test set using the second model.\n",
        "- Print the obtained results using the classification report and the confusion matrix.\n",
        "- Final observations on the obtained results."
      ]
    },
    {
      "cell_type": "code",
      "execution_count": null,
      "metadata": {
        "colab": {
          "base_uri": "https://localhost:8080/"
        },
        "id": "xbWMEtTj5Ad0",
        "outputId": "521e6f69-41ee-4be6-8e51-8fd18401df58"
      },
      "outputs": [
        {
          "name": "stdout",
          "output_type": "stream",
          "text": [
            "563/563 [==============================] - 1s 2ms/step\n"
          ]
        }
      ],
      "source": [
        "pred_test = model_ann2.predict(X_test)\n",
        "\n",
        "pred_test = np.argmax(pred_test, axis = -1)"
      ]
    },
    {
      "cell_type": "markdown",
      "metadata": {
        "id": "i3li8Ib08yts"
      },
      "source": [
        "**Note:** Earlier, we noticed that each entry of the target variable is a one-hot encoded vector but to print the classification report and confusion matrix, we must convert each entry of y_test to a single label."
      ]
    },
    {
      "cell_type": "code",
      "execution_count": null,
      "metadata": {
        "id": "NByu7uAQ8x9P"
      },
      "outputs": [],
      "source": [
        "y_test = np.argmax(y_test, axis = -1)"
      ]
    },
    {
      "cell_type": "markdown",
      "metadata": {
        "id": "1_SIoopr0XIg"
      },
      "source": [
        "### **Print the classification report and the confusion matrix for the test predictions. Write your observations on the final results.**"
      ]
    },
    {
      "cell_type": "code",
      "execution_count": null,
      "metadata": {
        "id": "5hj7b3kJF1wK"
      },
      "outputs": [],
      "source": [
        "from sklearn.metrics import classification_report\n",
        "from sklearn.metrics import confusion_matrix"
      ]
    },
    {
      "cell_type": "code",
      "execution_count": null,
      "metadata": {
        "colab": {
          "base_uri": "https://localhost:8080/",
          "height": 760
        },
        "id": "xRddeJ-3EHT1",
        "outputId": "ab5af9dc-2006-48b0-a50c-bffe4e838c27"
      },
      "outputs": [
        {
          "name": "stdout",
          "output_type": "stream",
          "text": [
            "              precision    recall  f1-score   support\n",
            "\n",
            "           0       0.85      0.76      0.80      1814\n",
            "           1       0.70      0.85      0.76      1828\n",
            "           2       0.81      0.79      0.80      1803\n",
            "           3       0.76      0.72      0.74      1719\n",
            "           4       0.75      0.86      0.80      1812\n",
            "           5       0.73      0.75      0.74      1768\n",
            "           6       0.81      0.74      0.78      1832\n",
            "           7       0.83      0.79      0.81      1808\n",
            "           8       0.76      0.70      0.73      1812\n",
            "           9       0.77      0.75      0.76      1804\n",
            "\n",
            "    accuracy                           0.77     18000\n",
            "   macro avg       0.78      0.77      0.77     18000\n",
            "weighted avg       0.78      0.77      0.77     18000\n",
            "\n"
          ]
        },
        {
          "data": {
            "image/png": "[encoded data removed]",
            "text/plain": [
              "<Figure size 800x500 with 2 Axes>"
            ]
          },
          "metadata": {},
          "output_type": "display_data"
        }
      ],
      "source": [
        "# Classification report\n",
        "\n",
        "print(classification_report(y_test,pred_test))\n",
        "\n",
        "#Confusion matrix and heatmap\n",
        "cm = confusion_matrix(y_test,pred_test)\n",
        "\n",
        "plt.figure(figsize = (8, 5))\n",
        "\n",
        "sns.heatmap(cm, annot = True,  fmt = '.0f')\n",
        "\n",
        "plt.ylabel('Actual')\n",
        "\n",
        "plt.xlabel('Predicted')\n",
        "\n",
        "plt.show()"
      ]
    },
    {
      "cell_type": "markdown",
      "metadata": {
        "id": "DjErl4GA2u9s"
      },
      "source": [
        "**Final Observations:**\n",
        "There are obvious misconceptions in this confusion matrix. There are numbers that are got wrong often, like 7,5 or 3, usually confused with 2,3 and 5 respectively. Its perfomance is moderately good, but could be better."
      ]
    },
    {
      "cell_type": "markdown",
      "metadata": {
        "id": "xkR4JioMsuIV"
      },
      "source": [
        "## **Using Convolutional Neural Networks**"
      ]
    },
    {
      "cell_type": "markdown",
      "metadata": {
        "id": "YN2YgkGL_6xQ"
      },
      "source": [
        "### **Load the dataset again and split the data into the train and the test dataset.**"
      ]
    },
    {
      "cell_type": "code",
      "execution_count": null,
      "metadata": {
        "id": "mqM204HbAjP2",
        "scrolled": true
      },
      "outputs": [],
      "source": [
        "h5f = h5py.File('/content/SVHN_single_grey1.h5', 'r')"
      ]
    },
    {
      "cell_type": "code",
      "execution_count": null,
      "metadata": {
        "id": "11SzGl6KGh6D"
      },
      "outputs": [],
      "source": [
        "X_train = h5f['X_train'][:]\n",
        "y_train = h5f['y_train'][:]\n",
        "X_test = h5f['X_test'][:]\n",
        "y_test = h5f['y_test'][:]"
      ]
    },
    {
      "cell_type": "code",
      "execution_count": null,
      "metadata": {
        "id": "o0nocznjGj0Q"
      },
      "outputs": [],
      "source": [
        "h5f.close()"
      ]
    },
    {
      "cell_type": "markdown",
      "metadata": {
        "id": "6fPqF_xGAjQB"
      },
      "source": [
        "Check the number of images in the training and the testing dataset."
      ]
    },
    {
      "cell_type": "code",
      "execution_count": null,
      "metadata": {
        "colab": {
          "base_uri": "https://localhost:8080/"
        },
        "id": "gTLJZWjPAjQB",
        "outputId": "3dbbe88b-0cff-4ea0-bc00-d12733e4b023"
      },
      "outputs": [
        {
          "data": {
            "text/plain": [
              "42000"
            ]
          },
          "execution_count": 126,
          "metadata": {},
          "output_type": "execute_result"
        }
      ],
      "source": [
        "len(X_train)"
      ]
    },
    {
      "cell_type": "code",
      "execution_count": null,
      "metadata": {
        "colab": {
          "base_uri": "https://localhost:8080/"
        },
        "id": "P1KeYQIhG0Bh",
        "outputId": "d58a217d-4d0d-4e9f-87d5-97dfb42aabcc"
      },
      "outputs": [
        {
          "data": {
            "text/plain": [
              "18000"
            ]
          },
          "execution_count": 127,
          "metadata": {},
          "output_type": "execute_result"
        }
      ],
      "source": [
        "len(X_test)"
      ]
    },
    {
      "cell_type": "markdown",
      "metadata": {
        "id": "9qyMiP_rAjQB"
      },
      "source": [
        "**Observation:**\n",
        "The train dataset has 42000 images and the test dataset has 18000."
      ]
    },
    {
      "cell_type": "markdown",
      "metadata": {
        "id": "OJndFfEVAjQG"
      },
      "source": [
        "## **Data preparation**\n",
        "\n",
        "- Print the shape and the array of pixels for the first image in the training dataset.\n",
        "- Reshape the train and the test dataset because we always have to give a 4D array as input to CNNs.\n",
        "- Normalize the train and the test dataset by dividing by 255.\n",
        "- Print the new shapes of the train and the test dataset.\n",
        "- One-hot encode the target variable."
      ]
    },
    {
      "cell_type": "code",
      "execution_count": null,
      "metadata": {
        "colab": {
          "base_uri": "https://localhost:8080/"
        },
        "id": "W4uXqKz1AjQG",
        "outputId": "fbdd9078-3120-4808-e97c-75f26d12b4b1"
      },
      "outputs": [
        {
          "name": "stdout",
          "output_type": "stream",
          "text": [
            "Shape: (32, 32)\n",
            "First image:\n",
            " [[ 33.0704  30.2601  26.852  ...  71.4471  58.2204  42.9939]\n",
            " [ 25.2283  25.5533  29.9765 ... 113.0209 103.3639  84.2949]\n",
            " [ 26.2775  22.6137  40.4763 ... 113.3028 121.775  115.4228]\n",
            " ...\n",
            " [ 28.5502  36.212   45.0801 ...  24.1359  25.0927  26.0603]\n",
            " [ 38.4352  26.4733  23.2717 ...  28.1094  29.4683  30.0661]\n",
            " [ 50.2984  26.0773  24.0389 ...  49.6682  50.853   53.0377]]\n"
          ]
        }
      ],
      "source": [
        "#Shape of the first image\n",
        "print(\"Shape:\", X_train[0].shape)\n",
        "\n",
        "#Array of the first image\n",
        "print(\"First image:\\n\", X_train[0])"
      ]
    },
    {
      "cell_type": "markdown",
      "metadata": {
        "id": "at30iiX1__7F"
      },
      "source": [
        "Reshape the dataset to be able to pass them to CNNs. Remember that we always have to give a 4D array as input to CNNs"
      ]
    },
    {
      "cell_type": "code",
      "execution_count": null,
      "metadata": {
        "id": "D9YPwf9ysqWU"
      },
      "outputs": [],
      "source": [
        "#Reshaping for correct input of CNNs\n",
        "X_train = X_train.reshape(X_train.shape[0], 32, 32, 1)\n",
        "\n",
        "X_test = X_test.reshape(X_test.shape[0], 32, 32, 1)"
      ]
    },
    {
      "cell_type": "markdown",
      "metadata": {
        "id": "ODYnoLfaAEGx"
      },
      "source": [
        "Normalize inputs from 0-255 to 0-1"
      ]
    },
    {
      "cell_type": "code",
      "execution_count": null,
      "metadata": {
        "id": "eOGLAn40AjQG"
      },
      "outputs": [],
      "source": [
        "X_train_norm = X_train / 255.0\n",
        "\n",
        "X_test_norm = X_test / 255.0"
      ]
    },
    {
      "cell_type": "markdown",
      "metadata": {
        "id": "cS9T4HqjAoyM"
      },
      "source": [
        "Print New shape of Training and Test"
      ]
    },
    {
      "cell_type": "code",
      "execution_count": null,
      "metadata": {
        "colab": {
          "base_uri": "https://localhost:8080/"
        },
        "id": "5qf8S5NQAjQG",
        "outputId": "d9a2131a-bcba-43ca-840a-fe384a89f23a"
      },
      "outputs": [
        {
          "name": "stdout",
          "output_type": "stream",
          "text": [
            "Train dataset: (42000, 32, 32, 1) (42000,)\n",
            "Test set: (18000, 32, 32, 1) (18000,)\n"
          ]
        }
      ],
      "source": [
        "print('Train dataset:', X_train_norm.shape, y_train.shape)\n",
        "print('Test set:', X_test_norm.shape, y_test.shape)"
      ]
    },
    {
      "cell_type": "markdown",
      "metadata": {
        "id": "10QaOV-xR7Jn"
      },
      "source": [
        "### **One-hot encode the labels in the target variable y_train and y_test.**"
      ]
    },
    {
      "cell_type": "code",
      "execution_count": null,
      "metadata": {
        "id": "3KHWFWKMAjQH"
      },
      "outputs": [],
      "source": [
        "y_train = to_categorical(y_train)\n",
        "y_test = to_categorical(y_test)"
      ]
    },
    {
      "cell_type": "code",
      "execution_count": null,
      "metadata": {
        "colab": {
          "base_uri": "https://localhost:8080/"
        },
        "id": "Bp6lFD3lIwiO",
        "outputId": "9053eadd-3576-4371-82d6-08ce054b60db"
      },
      "outputs": [
        {
          "data": {
            "text/plain": [
              "array([[0., 1., 0., ..., 0., 0., 0.],\n",
              "       [0., 0., 0., ..., 1., 0., 0.],\n",
              "       [0., 0., 1., ..., 0., 0., 0.],\n",
              "       ...,\n",
              "       [0., 0., 0., ..., 1., 0., 0.],\n",
              "       [0., 0., 0., ..., 0., 0., 1.],\n",
              "       [0., 0., 1., ..., 0., 0., 0.]], dtype=float32)"
            ]
          },
          "execution_count": 133,
          "metadata": {},
          "output_type": "execute_result"
        }
      ],
      "source": [
        "y_test"
      ]
    },
    {
      "cell_type": "markdown",
      "metadata": {
        "id": "H-8jYVQTAjQH"
      },
      "source": [
        "**Observation:**\n",
        "Every element of the test set is a one-hot encoded vector instead of a single label."
      ]
    },
    {
      "cell_type": "markdown",
      "metadata": {
        "id": "Vjx_LI4_AjQH"
      },
      "source": [
        "## **Model Building**\n",
        "\n",
        "Now that we have done data preprocessing, let's build a CNN model.\n",
        "Fix the seed for random number generators"
      ]
    },
    {
      "cell_type": "code",
      "execution_count": null,
      "metadata": {
        "id": "ZY5pyF4-KDNt"
      },
      "outputs": [],
      "source": [
        "np.random.seed(18)\n",
        "random.seed(18)\n",
        "tf.random.set_seed(18)"
      ]
    },
    {
      "cell_type": "markdown",
      "metadata": {
        "id": "1JUAczhzAjQH"
      },
      "source": [
        "### **Model Architecture**\n",
        "- **Write a function** that returns a sequential model with the following architecture:\n",
        " - First Convolutional layer with **16 filters and the kernel size of 3x3**. Use the **'same' padding** and provide the **input shape = (32, 32, 1)**\n",
        " - Add a **LeakyRelu layer** with the **slope equal to 0.1**\n",
        " - Second Convolutional layer with **32 filters and the kernel size of 3x3 with 'same' padding**\n",
        " - Another **LeakyRelu** with the **slope equal to 0.1**\n",
        " - A **max-pooling layer** with a **pool size of 2x2**\n",
        " - **Flatten** the output from the previous layer\n",
        " - Add a **dense layer with 32 nodes**\n",
        " - Add a **LeakyRelu layer with the slope equal to 0.1**\n",
        " - Add the final **output layer with nodes equal to the number of classes, i.e., 10** and **'softmax' as the activation function**\n",
        " - Compile the model with the **loss equal to categorical_crossentropy, optimizer equal to Adam(learning_rate = 0.001), and metric equal to 'accuracy'**. Do not fit the model here, just return the compiled model.\n",
        "- Call the function cnn_model_1 and store the output in a new variable.\n",
        "- Print the summary of the model.\n",
        "- Fit the model on the training data with a **validation split of 0.2, batch size = 32, verbose = 1, and epochs = 20**. Store the model building history to use later for visualization."
      ]
    },
    {
      "cell_type": "markdown",
      "metadata": {
        "id": "JWsAd45JKDNu"
      },
      "source": [
        "### **Build and train a CNN model as per the above mentioned architecture.**"
      ]
    },
    {
      "cell_type": "code",
      "execution_count": null,
      "metadata": {
        "id": "L1jOYANWAjQH"
      },
      "outputs": [],
      "source": [
        "def cnn_mod1():\n",
        "\n",
        "    model = Sequential()\n",
        "\n",
        "    #Layers\n",
        "\n",
        "    model.add(Conv2D(16, (3, 3), padding='same', input_shape=(32, 32, 1)))\n",
        "    model.add(LeakyReLU(0.1))\n",
        "\n",
        "    model.add(Conv2D(32,(3,3),padding='same'))\n",
        "    model.add(LeakyReLU(0.1))\n",
        "\n",
        "    model.add(MaxPooling2D(pool_size=(2, 2)))\n",
        "\n",
        "    model.add(Flatten())\n",
        "\n",
        "    model.add(Dense(32))\n",
        "    model.add(LeakyReLU(0.1))\n",
        "\n",
        "    model.add(Dense(10, activation='softmax'))\n",
        "\n",
        "    # Compilation of the model\n",
        "\n",
        "    model.compile(loss='categorical_crossentropy',\n",
        "                  optimizer=Adam(learning_rate=0.001),\n",
        "                  metrics=['accuracy'])\n",
        "\n",
        "    return model"
      ]
    },
    {
      "cell_type": "code",
      "execution_count": null,
      "metadata": {
        "id": "0CT1EI02JuhQ"
      },
      "outputs": [],
      "source": [
        "cnn_model_1 = cnn_mod1()"
      ]
    },
    {
      "cell_type": "code",
      "execution_count": null,
      "metadata": {
        "colab": {
          "base_uri": "https://localhost:8080/"
        },
        "id": "FAQBbOJJJwFu",
        "outputId": "7447c051-5cc0-4256-c319-8eba232f43e3"
      },
      "outputs": [
        {
          "name": "stdout",
          "output_type": "stream",
          "text": [
            "Model: \"sequential_8\"\n",
            "_________________________________________________________________\n",
            " Layer (type)                Output Shape              Param #   \n",
            "=================================================================\n",
            " conv2d_3 (Conv2D)           (None, 32, 32, 16)        160       \n",
            "                                                                 \n",
            " leaky_re_lu_3 (LeakyReLU)   (None, 32, 32, 16)        0         \n",
            "                                                                 \n",
            " conv2d_4 (Conv2D)           (None, 32, 32, 32)        4640      \n",
            "                                                                 \n",
            " leaky_re_lu_4 (LeakyReLU)   (None, 32, 32, 32)        0         \n",
            "                                                                 \n",
            " max_pooling2d_1 (MaxPooling  (None, 16, 16, 32)       0         \n",
            " 2D)                                                             \n",
            "                                                                 \n",
            " flatten_1 (Flatten)         (None, 8192)              0         \n",
            "                                                                 \n",
            " dense_29 (Dense)            (None, 32)                262176    \n",
            "                                                                 \n",
            " leaky_re_lu_5 (LeakyReLU)   (None, 32)                0         \n",
            "                                                                 \n",
            " dense_30 (Dense)            (None, 10)                330       \n",
            "                                                                 \n",
            "=================================================================\n",
            "Total params: 267,306\n",
            "Trainable params: 267,306\n",
            "Non-trainable params: 0\n",
            "_________________________________________________________________\n"
          ]
        }
      ],
      "source": [
        "cnn_model_1.summary()"
      ]
    },
    {
      "cell_type": "code",
      "execution_count": null,
      "metadata": {
        "colab": {
          "base_uri": "https://localhost:8080/"
        },
        "id": "ZL2LS09xJxuQ",
        "outputId": "cf5c6af3-8922-4f56-d8bd-7aa3fa97a58f"
      },
      "outputs": [
        {
          "name": "stdout",
          "output_type": "stream",
          "text": [
            "Epoch 1/20\n",
            "1050/1050 [==============================] - 114s 104ms/step - loss: 2.2588 - accuracy: 0.5048 - val_loss: 0.7713 - val_accuracy: 0.7708\n",
            "Epoch 2/20\n",
            "1050/1050 [==============================] - 103s 98ms/step - loss: 0.7053 - accuracy: 0.7937 - val_loss: 0.6769 - val_accuracy: 0.8102\n",
            "Epoch 3/20\n",
            "1050/1050 [==============================] - 97s 93ms/step - loss: 0.5905 - accuracy: 0.8307 - val_loss: 0.5809 - val_accuracy: 0.8342\n",
            "Epoch 4/20\n",
            "1050/1050 [==============================] - 102s 97ms/step - loss: 0.5142 - accuracy: 0.8497 - val_loss: 0.5787 - val_accuracy: 0.8393\n",
            "Epoch 5/20\n",
            "1050/1050 [==============================] - 99s 94ms/step - loss: 0.4746 - accuracy: 0.8630 - val_loss: 0.5825 - val_accuracy: 0.8407\n",
            "Epoch 6/20\n",
            "1050/1050 [==============================] - 104s 99ms/step - loss: 0.4381 - accuracy: 0.8726 - val_loss: 0.5970 - val_accuracy: 0.8412\n",
            "Epoch 7/20\n",
            "1050/1050 [==============================] - 99s 94ms/step - loss: 0.3978 - accuracy: 0.8817 - val_loss: 0.5674 - val_accuracy: 0.8539\n",
            "Epoch 8/20\n",
            "1050/1050 [==============================] - 104s 99ms/step - loss: 0.3619 - accuracy: 0.8907 - val_loss: 0.5687 - val_accuracy: 0.8488\n",
            "Epoch 9/20\n",
            "1050/1050 [==============================] - 99s 94ms/step - loss: 0.3325 - accuracy: 0.8982 - val_loss: 0.6089 - val_accuracy: 0.8490\n",
            "Epoch 10/20\n",
            "1050/1050 [==============================] - 100s 96ms/step - loss: 0.3045 - accuracy: 0.9085 - val_loss: 0.6172 - val_accuracy: 0.8511\n",
            "Epoch 11/20\n",
            "1050/1050 [==============================] - 101s 96ms/step - loss: 0.2943 - accuracy: 0.9087 - val_loss: 0.6893 - val_accuracy: 0.8430\n",
            "Epoch 12/20\n",
            "1050/1050 [==============================] - 98s 93ms/step - loss: 0.2584 - accuracy: 0.9200 - val_loss: 0.6890 - val_accuracy: 0.8490\n",
            "Epoch 13/20\n",
            "1050/1050 [==============================] - 103s 98ms/step - loss: 0.2427 - accuracy: 0.9247 - val_loss: 0.7065 - val_accuracy: 0.8418\n",
            "Epoch 14/20\n",
            "1050/1050 [==============================] - 99s 94ms/step - loss: 0.2193 - accuracy: 0.9317 - val_loss: 0.7794 - val_accuracy: 0.8567\n",
            "Epoch 15/20\n",
            "1050/1050 [==============================] - 100s 95ms/step - loss: 0.2216 - accuracy: 0.9311 - val_loss: 0.7648 - val_accuracy: 0.8531\n",
            "Epoch 16/20\n",
            "1050/1050 [==============================] - 106s 101ms/step - loss: 0.2039 - accuracy: 0.9370 - val_loss: 0.7324 - val_accuracy: 0.8595\n",
            "Epoch 17/20\n",
            "1000/1050 [===========================>..] - ETA: 4s - loss: 0.1872 - accuracy: 0.9403"
          ]
        }
      ],
      "source": [
        "cnn_model_1_hist = cnn_model_1.fit(X_train,y_train,\n",
        "                              validation_split=0.2,\n",
        "                              batch_size=32,\n",
        "                              verbose=1,\n",
        "                              epochs=20)"
      ]
    },
    {
      "cell_type": "markdown",
      "metadata": {
        "id": "JPzfIf9kKDNw"
      },
      "source": [
        "### **Plot the Training and Validation Accuracies and Write your observations.**"
      ]
    },
    {
      "cell_type": "code",
      "execution_count": null,
      "metadata": {
        "colab": {
          "background_save": true
        },
        "id": "26WfajgHJjHO",
        "outputId": "491e9808-2480-40b0-cea5-11024e0689f9"
      },
      "outputs": [
        {
          "ename": "NameError",
          "evalue": "ignored",
          "output_type": "error",
          "traceback": [
            "\u001b[0;31m---------------------------------------------------------------------------\u001b[0m",
            "\u001b[0;31mNameError\u001b[0m                                 Traceback (most recent call last)",
            "\u001b[0;32m<ipython-input-139-1950b6d65b58>\u001b[0m in \u001b[0;36m<cell line: 7>\u001b[0;34m()\u001b[0m\n\u001b[1;32m      5\u001b[0m \u001b[0mplt\u001b[0m\u001b[0;34m.\u001b[0m\u001b[0mfigure\u001b[0m\u001b[0;34m(\u001b[0m\u001b[0mfigsize\u001b[0m \u001b[0;34m=\u001b[0m \u001b[0;34m(\u001b[0m\u001b[0;36m8\u001b[0m\u001b[0;34m,\u001b[0m \u001b[0;36m8\u001b[0m\u001b[0;34m)\u001b[0m\u001b[0;34m)\u001b[0m\u001b[0;34m\u001b[0m\u001b[0;34m\u001b[0m\u001b[0m\n\u001b[1;32m      6\u001b[0m \u001b[0;34m\u001b[0m\u001b[0m\n\u001b[0;32m----> 7\u001b[0;31m \u001b[0mplt\u001b[0m\u001b[0;34m.\u001b[0m\u001b[0mplot\u001b[0m\u001b[0;34m(\u001b[0m\u001b[0mepoch_list\u001b[0m\u001b[0;34m,\u001b[0m \u001b[0mdict_hist\u001b[0m\u001b[0;34m[\u001b[0m\u001b[0;34m'accuracy'\u001b[0m\u001b[0;34m]\u001b[0m\u001b[0;34m,\u001b[0m \u001b[0mls\u001b[0m \u001b[0;34m=\u001b[0m \u001b[0;34m'--'\u001b[0m\u001b[0;34m,\u001b[0m \u001b[0mlabel\u001b[0m \u001b[0;34m=\u001b[0m \u001b[0;34m'accuracy'\u001b[0m\u001b[0;34m)\u001b[0m\u001b[0;34m\u001b[0m\u001b[0;34m\u001b[0m\u001b[0m\n\u001b[0m\u001b[1;32m      8\u001b[0m \u001b[0;34m\u001b[0m\u001b[0m\n\u001b[1;32m      9\u001b[0m \u001b[0mplt\u001b[0m\u001b[0;34m.\u001b[0m\u001b[0mplot\u001b[0m\u001b[0;34m(\u001b[0m\u001b[0mepoch_list\u001b[0m\u001b[0;34m,\u001b[0m \u001b[0mdict_hist\u001b[0m\u001b[0;34m[\u001b[0m\u001b[0;34m'val_accuracy'\u001b[0m\u001b[0;34m]\u001b[0m\u001b[0;34m,\u001b[0m \u001b[0mls\u001b[0m \u001b[0;34m=\u001b[0m \u001b[0;34m'--'\u001b[0m\u001b[0;34m,\u001b[0m \u001b[0mlabel\u001b[0m \u001b[0;34m=\u001b[0m \u001b[0;34m'val_accuracy'\u001b[0m\u001b[0;34m)\u001b[0m\u001b[0;34m\u001b[0m\u001b[0;34m\u001b[0m\u001b[0m\n",
            "\u001b[0;31mNameError\u001b[0m: name 'dict_hist' is not defined"
          ]
        },
        {
          "data": {
            "text/plain": [
              "<Figure size 800x800 with 0 Axes>"
            ]
          },
          "metadata": {},
          "output_type": "display_data"
        }
      ],
      "source": [
        "acc_hist = history_cnn_model_1.history\n",
        "\n",
        "epoch_list = [i for i in range(1, 21)]\n",
        "\n",
        "plt.figure(figsize = (8, 8))\n",
        "\n",
        "plt.plot(epoch_list, dict_hist['accuracy'], ls = '--', label = 'accuracy')\n",
        "\n",
        "plt.plot(epoch_list, dict_hist['validation accuracy'], ls = '--', label = 'validation accuracy')\n",
        "\n",
        "plt.ylabel('Accuracy')\n",
        "\n",
        "plt.xlabel('Epochs')\n",
        "\n",
        "plt.legend()\n",
        "\n",
        "plt.show()"
      ]
    },
    {
      "cell_type": "markdown",
      "metadata": {
        "id": "P6zTLyp9AjQH"
      },
      "source": [
        "**Observations:**\n",
        "The training set has an accuracy near 99%, even if the test set has a lower accuracy around 85% the performance of the model is suficiently good to identify a big part of the inputs correctly."
      ]
    },
    {
      "cell_type": "markdown",
      "metadata": {
        "id": "Ukvtg2eMAjQH"
      },
      "source": [
        "Let's build another model and see if we can get a better model with generalized performance.\n",
        "\n",
        "First, we need to clear the previous model's history from the Keras backend. Also, let's fix the seed again after clearing the backend."
      ]
    },
    {
      "cell_type": "code",
      "execution_count": null,
      "metadata": {
        "id": "HbKi93HTolGW"
      },
      "outputs": [],
      "source": [
        "from tensorflow.keras import backend\n",
        "\n",
        "backend.clear_session()"
      ]
    },
    {
      "cell_type": "code",
      "execution_count": null,
      "metadata": {
        "id": "w-fUtoB3Ns0w"
      },
      "outputs": [],
      "source": [
        "np.random.seed(18)\n",
        "random.seed(18)\n",
        "\n",
        "tf.random.set_seed(18)"
      ]
    },
    {
      "cell_type": "markdown",
      "metadata": {
        "id": "Ep19Jd8HAjQH"
      },
      "source": [
        "### **Second Model Architecture**\n",
        "\n",
        "- Write a function that returns a sequential model with the following architecture:\n",
        " - First Convolutional layer with **16 filters and the kernel size of 3x3**. Use the **'same' padding** and provide the **input shape = (32, 32, 1)**\n",
        " - Add a **LeakyRelu layer** with the **slope equal to 0.1**\n",
        " - Second Convolutional layer with **32 filters and the kernel size of 3x3 with 'same' padding**\n",
        " - Add **LeakyRelu** with the **slope equal to 0.1**\n",
        " - Add a **max-pooling layer** with a **pool size of 2x2**\n",
        " - Add a **BatchNormalization layer**\n",
        " - Third Convolutional layer with **32 filters and the kernel size of 3x3 with 'same' padding**\n",
        " - Add a **LeakyRelu layer with the slope equal to 0.1**\n",
        " - Fourth Convolutional layer **64 filters and the kernel size of 3x3 with 'same' padding**\n",
        " - Add a **LeakyRelu layer with the slope equal to 0.1**\n",
        " - Add a **max-pooling layer** with a **pool size of 2x2**\n",
        " - Add a **BatchNormalization layer**\n",
        " - **Flatten** the output from the previous layer\n",
        " - Add a **dense layer with 32 nodes**\n",
        " - Add a **LeakyRelu layer with the slope equal to 0.1**\n",
        " - Add a **dropout layer with the rate equal to 0.5**\n",
        " - Add the final **output layer with nodes equal to the number of classes, i.e., 10** and **'softmax' as the activation function**\n",
        " - Compile the model with the **categorical_crossentropy loss, adam optimizers (learning_rate = 0.001), and metric equal to 'accuracy'**. Do not fit the model here, just return the compiled model.\n",
        "- Call the function cnn_model_2 and store the model in a new variable.\n",
        "- Print the summary of the model.\n",
        "- Fit the model on the train data with a **validation split of 0.2, batch size = 128, verbose = 1, and epochs = 30**. Store the model building history to use later for visualization."
      ]
    },
    {
      "cell_type": "markdown",
      "metadata": {
        "id": "y5IBLS1eKDNy"
      },
      "source": [
        "### **Build and train the second CNN model as per the above mentioned architecture.**"
      ]
    },
    {
      "cell_type": "code",
      "execution_count": null,
      "metadata": {
        "id": "wk9sl2UEAjQH"
      },
      "outputs": [],
      "source": [
        "def cnn_mod2():\n",
        "\n",
        "    model = Sequential()\n",
        "\n",
        "    # Add layers as per the architecture mentioned above in the same sequence\n",
        "\n",
        "    model.add(Conv2D(16, (3, 3), padding='same', input_shape=(32, 32, 1)))\n",
        "    model.add(LeakyReLU(0.1))\n",
        "\n",
        "    model.add(Conv2D(32,(3,3),padding='same'))\n",
        "    model.add(LeakyReLU(0.1))\n",
        "\n",
        "    model.add(MaxPooling2D(pool_size=(2, 2)))\n",
        "    model.add(BatchNormalization())\n",
        "\n",
        "    model.add(Conv2D(32,(3,3),padding='same'))\n",
        "    model.add(LeakyReLU(0.1))\n",
        "\n",
        "    model.add(Conv2D(64,(3,3),padding='same'))\n",
        "    model.add(LeakyReLU(0.1))\n",
        "\n",
        "    model.add(MaxPooling2D(pool_size=(2, 2)))\n",
        "\n",
        "    model.add(BatchNormalization())\n",
        "\n",
        "    model.add(Flatten())\n",
        "\n",
        "    model.add(Dense(32))\n",
        "    model.add(LeakyReLU(0.1))\n",
        "\n",
        "    model.add(Dropout(0.5))\n",
        "\n",
        "    model.add(Dense(10, activation='softmax'))\n",
        "\n",
        "\n",
        "    # Compile the model\n",
        "\n",
        "    model.compile(loss='categorical_crossentropy',\n",
        "                  optimizer=Adam(learning_rate=0.001),\n",
        "                  metrics=['accuracy'])\n",
        "\n",
        "    return model"
      ]
    },
    {
      "cell_type": "code",
      "execution_count": null,
      "metadata": {
        "id": "NQ6-KWm9OHgf"
      },
      "outputs": [],
      "source": [
        "cnn_mod2 = cnn_mod2()"
      ]
    },
    {
      "cell_type": "code",
      "execution_count": null,
      "metadata": {
        "id": "CCtYssfAONCf"
      },
      "outputs": [],
      "source": [
        "cnn_mod2.summary()"
      ]
    },
    {
      "cell_type": "code",
      "execution_count": null,
      "metadata": {
        "id": "evaqqHcEOQLe"
      },
      "outputs": [],
      "source": [
        "hist_cnn_mod2 = cnn_mod2.fit(X_train,y_train,\n",
        "                              validation_split=0.2,\n",
        "                              batch_size=128,\n",
        "                              verbose=1,\n",
        "                              epochs=30)"
      ]
    },
    {
      "cell_type": "markdown",
      "metadata": {
        "id": "PyhUtMy3KDN1"
      },
      "source": [
        "### **Plot the Training and Validation accuracies and write your observations.**"
      ]
    },
    {
      "cell_type": "code",
      "execution_count": null,
      "metadata": {
        "id": "YVQu7uWiAjQH"
      },
      "outputs": [],
      "source": [
        "acc_hist = hist_cnn_mod2.history\n",
        "\n",
        "epoch_list = [i for i in range(1, 31)]\n",
        "\n",
        "plt.figure(figsize = (8, 8))\n",
        "\n",
        "plt.plot(epoch_list, acc_hist['accuracy'], ls = '--', label = 'accuracy')\n",
        "\n",
        "plt.plot(epoch_list, acc_hist['validation accuracy'], ls = '--', label = 'validation accuracy')\n",
        "\n",
        "plt.ylabel('Accuracy')\n",
        "\n",
        "plt.xlabel('Epochs')\n",
        "\n",
        "plt.legend()\n",
        "\n",
        "plt.show()"
      ]
    },
    {
      "cell_type": "markdown",
      "metadata": {
        "id": "Qrrt0Ac3AjQH"
      },
      "source": [
        "**Observations:**\n",
        "This model performs better than the previous ones.\n",
        "It has a better accuracy for both test and train sets and it is not too different one from another. Both have an accuracy near or superior to 0.9."
      ]
    },
    {
      "cell_type": "markdown",
      "metadata": {
        "id": "kja4SnOdAjQI"
      },
      "source": [
        "## **Predictions on the test data**\n",
        "\n",
        "- Make predictions on the test set using the second model.\n",
        "- Print the obtained results using the classification report and the confusion matrix.\n",
        "- Final observations on the obtained results."
      ]
    },
    {
      "cell_type": "markdown",
      "metadata": {
        "id": "eHCRwRbgKDN2"
      },
      "source": [
        "### **Make predictions on the test data using the second model.**"
      ]
    },
    {
      "cell_type": "code",
      "execution_count": null,
      "metadata": {
        "id": "f1d-VvaLAjQI"
      },
      "outputs": [],
      "source": [
        "pred_test = cnn_mod2.predict(X_test)\n",
        "pred_test = np.argmax(pred_test,axis=-1)"
      ]
    },
    {
      "cell_type": "markdown",
      "metadata": {
        "id": "DrV1tOG0AjQI"
      },
      "source": [
        "**Note:** Earlier, we noticed that each entry of the target variable is a one-hot encoded vector, but to print the classification report and confusion matrix, we must convert each entry of y_test to a single label."
      ]
    },
    {
      "cell_type": "code",
      "execution_count": null,
      "metadata": {
        "id": "dUSHU9W0AjQI"
      },
      "outputs": [],
      "source": [
        "y_test = np.argmax(y_test, axis = -1)"
      ]
    },
    {
      "cell_type": "markdown",
      "metadata": {
        "id": "aVCa-ysWKDN3"
      },
      "source": [
        "### **Write your final observations on the performance of the model on the test data.**"
      ]
    },
    {
      "cell_type": "code",
      "execution_count": null,
      "metadata": {
        "id": "sOMq2rCJAjQJ"
      },
      "outputs": [],
      "source": [
        "print(classification_report(y_test, test_pred))\n",
        "\n",
        "#Confusion matrix\n",
        "\n",
        "cm = confusion_matrix(y_test, test_pred)\n",
        "plt.figure(figsize = (8, 5))\n",
        "\n",
        "#Heatmap\n",
        "sns.heatmap(cm, annot = True,  fmt = '.0f')\n",
        "\n",
        "plt.ylabel('Actual')\n",
        "\n",
        "plt.xlabel('Predicted')\n",
        "\n",
        "plt.show()"
      ]
    },
    {
      "cell_type": "markdown",
      "metadata": {
        "id": "TNN9v713AjQJ"
      },
      "source": [
        "**Final Observations:_________**"
      ]
    }
  ],
  "metadata": {
    "accelerator": "TPU",
    "colab": {
      "provenance": []
    },
    "kernelspec": {
      "display_name": "Python 3 (ipykernel)",
      "language": "python",
      "name": "python3"
    },
    "language_info": {
      "codemirror_mode": {
        "name": "ipython",
        "version": 3
      },
      "file_extension": ".py",
      "mimetype": "text/x-python",
      "name": "python",
      "nbconvert_exporter": "python",
      "pygments_lexer": "ipython3",
      "version": "3.9.7"
    }
  },
  "nbformat": 4,
  "nbformat_minor": 0
}